{
 "cells": [
  {
   "cell_type": "code",
   "execution_count": 27,
   "metadata": {},
   "outputs": [
    {
     "ename": "ModuleNotFoundError",
     "evalue": "No module named 'request'",
     "output_type": "error",
     "traceback": [
      "\u001b[1;31m---------------------------------------------------------------------------\u001b[0m",
      "\u001b[1;31mModuleNotFoundError\u001b[0m                       Traceback (most recent call last)",
      "Cell \u001b[1;32mIn[27], line 1\u001b[0m\n\u001b[1;32m----> 1\u001b[0m \u001b[38;5;28;01mimport\u001b[39;00m \u001b[38;5;21;01mrequest\u001b[39;00m\n",
      "\u001b[1;31mModuleNotFoundError\u001b[0m: No module named 'request'"
     ]
    }
   ],
   "source": [
    "import request"
   ]
  },
  {
   "cell_type": "code",
   "execution_count": null,
   "metadata": {},
   "outputs": [
    {
     "ename": "ModuleNotFoundError",
     "evalue": "No module named 'requests'",
     "output_type": "error",
     "traceback": [
      "\u001b[1;31m---------------------------------------------------------------------------\u001b[0m",
      "\u001b[1;31mModuleNotFoundError\u001b[0m                       Traceback (most recent call last)",
      "Cell \u001b[1;32mIn[2], line 1\u001b[0m\n\u001b[1;32m----> 1\u001b[0m \u001b[38;5;28;01mimport\u001b[39;00m \u001b[38;5;21;01mrequests\u001b[39;00m\n",
      "\u001b[1;31mModuleNotFoundError\u001b[0m: No module named 'requests'"
     ]
    }
   ],
   "source": [
    "import requests"
   ]
  },
  {
   "cell_type": "code",
   "execution_count": null,
   "metadata": {},
   "outputs": [],
   "source": [
    "from warnings import filterwarnings\n",
    "filterwarnings('ignore')"
   ]
  },
  {
   "cell_type": "code",
   "execution_count": 48,
   "metadata": {},
   "outputs": [
    {
     "name": "stdout",
     "output_type": "stream",
     "text": [
      "<title>Mumbai News: Latest Mumbai News Headlines, Coronavirus News, BMC Elections 2022 Updates from Mumbai - Times of India</title>\n",
      "<p class=\"\"></p>\n",
      "[]\n",
      "[]\n",
      "!--This is comment--\n",
      "!--This is comment--\n",
      "<class 'bs4.BeautifulSoup'>\n"
     ]
    }
   ],
   "source": [
    "import requests\n",
    "from bs4 import BeautifulSoup\n",
    "def fetchandsavetofile(url,path):\n",
    "    r=requests.get(url)\n",
    "    print(r.content)\n",
    "    with open(path,\"w\",encoding=\"utf-8\") as f:\n",
    "        f.write(r.text)\n",
    "\n",
    "url=\"https://timesofindia.indiatimes.com/city/mumbai\"\n",
    "\n",
    "#fetchandsavetofile(url,\"data/times.html\")\n",
    "\n",
    "soup=BeautifulSoup(r.content,'html.parser')\n",
    "pret=soup.prettify\n",
    "title=soup.title\n",
    "print(title)\n",
    "content=soup.contents\n",
    "#print(content)\n",
    "\n",
    "#Common object in web scrPING\n",
    "# print(soup)\n",
    "# print(type(title))\n",
    "# print(type(title.string))\n",
    "\n",
    "# gET ALL paragraphs from the content\n",
    "\n",
    "paras=soup.find_all('p')\n",
    "#print(paras)\n",
    "\n",
    "# get all anchor tags\n",
    "\n",
    "a=soup.find_all('a')\n",
    "#print(a)\n",
    "\n",
    "# Get first Element from HTML content\n",
    "fir=soup.find('p')\n",
    "print(fir)\n",
    "\n",
    "#Get Class of first elemet\n",
    "print(soup.find('p')['class'])\n",
    "\n",
    "# # Get all links on the page\n",
    "# for link in a:\n",
    "#     print(link.get('href'))\n",
    "\n",
    "# find all the element withh class \"Lead\"\n",
    "\n",
    "print(soup.find_all(\"p\",class_='lead'))    \n",
    "\n",
    "# # Get all links on the page\n",
    "# for link in a:\n",
    "#     print(link.get('href'))\n",
    "\n",
    "markup=\"!--This is comment--\"\n",
    "c=BeautifulSoup(markup)\n",
    "print(c)\n",
    "print(c.string)\n",
    "print(type(c))\n",
    "\n",
    "divi=beau"
   ]
  },
  {
   "cell_type": "code",
   "execution_count": null,
   "metadata": {},
   "outputs": [],
   "source": []
  }
 ],
 "metadata": {
  "kernelspec": {
   "display_name": "venv",
   "language": "python",
   "name": "python3"
  },
  "language_info": {
   "codemirror_mode": {
    "name": "ipython",
    "version": 3
   },
   "file_extension": ".py",
   "mimetype": "text/x-python",
   "name": "python",
   "nbconvert_exporter": "python",
   "pygments_lexer": "ipython3",
   "version": "3.11.9"
  }
 },
 "nbformat": 4,
 "nbformat_minor": 2
}
